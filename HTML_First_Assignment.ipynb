{
  "nbformat": 4,
  "nbformat_minor": 0,
  "metadata": {
    "colab": {
      "provenance": []
    },
    "kernelspec": {
      "name": "python3",
      "display_name": "Python 3"
    },
    "language_info": {
      "name": "python"
    }
  },
  "cells": [
    {
      "cell_type": "markdown",
      "source": [
        "1. Write a simple program in HTML  that displays the heading \"HTML defines the content and structure of your website” on the web browser ?\n",
        "\n",
        " Answer :\n",
        "        <!DOCTYPE html>\n",
        "        <html>\n",
        "        <head>\n",
        "          <title></title>\n",
        "        </head>\n",
        "       <body>\n",
        "          <h5>HTML defines the content and structure of your website </h5>\n",
        "        </body>\n",
        "        <html>"
      ],
      "metadata": {
        "id": "ncVJzpu-iVBH"
      }
    },
    {
      "cell_type": "markdown",
      "source": [
        "2.  Explain the purpose of comments in HTML and provide an example of how to use comments in an HTML  document ?\n",
        "\n",
        "  Answer: Comments are used to write a short note on our piece of code by using a comments we can provide the some extra information about the code .\n",
        "  Types of HTML comments :\n",
        "  Basically there is two types of html comments:\n",
        "\n",
        "\n",
        "    1.   Single line comment\n",
        "    2.   Multiline comment\n",
        "\n",
        "    Example : <!--h1 tag comment-->\n",
        "    <h1>This is the heading one<h1>\n",
        "     The above example showing the h1 heading comment.\n",
        "\n",
        "\n"
      ],
      "metadata": {
        "id": "kXiM5_18nRYZ"
      }
    },
    {
      "cell_type": "markdown",
      "source": [
        "3. Write an HTML program that includes a heading, a paragraph of text, a horizontal line, and a line break. Arrange these elements to create a simple web page layout ?\n",
        "\n",
        "  Answer:\n",
        "       <!DOCTYPE html>\n",
        "       <html>\n",
        "            <head>\n",
        "              <title></title>\n",
        "            </head>\n",
        "            <body>\n",
        "              <!--This is a heading tag-->\n",
        "              <h1>This is my webpage heading</h1>\n",
        "              <!--This is paragraph tag-->\n",
        "              <p>Html is hypertext markup language which is used to strutred and format the web page.</p>\n",
        "              <!--This is break line tag br-->\n",
        "              <br>\n",
        "              <!--This is a horizontal line tag-->\n",
        "              <hr>\n",
        "            </body>\n",
        "       </html>\n"
      ],
      "metadata": {
        "id": "E7y9zNrgqUpa"
      }
    },
    {
      "cell_type": "markdown",
      "source": [
        "4. Write a short note on Tag and element with an example ?\n",
        "\n",
        "  Answer : question 4\n",
        "*   Tag : Tag is a keyword which is enclosed within a angle bracket.Tag is used to structre and format the text content on the web page it tells to the sytem how the content should be displayed over the browser and these tag does not appear on the browser it is just used to structured and format the documnet.\n",
        "\n",
        "  example of tag : how to write a tag :  \n",
        "      \n",
        "         <title></title> this is the syntax of writing tag.\n",
        "         <tittle> tag is opening tag\n",
        "         </title> tag is closing tag\n",
        "*   Element : HTML element is complete structure from opening tag, content and closing tag.\n",
        "\n",
        "  example of element :\n",
        "         <p>HTML assignment work</p>\n",
        "         here <p> is a opening paragraph tag and HTML assignment work is a content and </p> is a closing tag.\n",
        "       \n",
        "\n",
        "\n"
      ],
      "metadata": {
        "id": "QlQJmLVIy7tN"
      }
    },
    {
      "cell_type": "markdown",
      "source": [
        "5. What is the DOCTYPE Declaration in HTML ?\n",
        "\n",
        " Answer : DOCTYPE is the first line of code in an HTML document, and it tells the browser what version of HTML the page is written."
      ],
      "metadata": {
        "id": "rVIwf1Gd23OK"
      }
    },
    {
      "cell_type": "markdown",
      "source": [
        "<body>\n",
        "    <h5> </h5>\n",
        "</body>"
      ],
      "metadata": {
        "id": "pfT365HElSq1"
      }
    }
  ]
}